{
 "cells": [
  {
   "cell_type": "code",
   "execution_count": null,
   "id": "fb10da0a",
   "metadata": {},
   "outputs": [],
   "source": [
    "!pip install -r \"requirements.txt\""
   ]
  },
  {
   "cell_type": "code",
   "execution_count": null,
   "id": "5637242d",
   "metadata": {},
   "outputs": [],
   "source": [
    "!pip install -r \"linear-reg-data-job/requirements.txt\""
   ]
  },
  {
   "cell_type": "code",
   "execution_count": null,
   "id": "d9bc330b",
   "metadata": {},
   "outputs": [],
   "source": [
    "!vdk run linear-reg-data-job"
   ]
  },
  {
   "cell_type": "code",
   "execution_count": null,
   "id": "803f9323",
   "metadata": {},
   "outputs": [],
   "source": [
    "!streamlit run build_streamlit_dashboard.py\n",
    "\n",
    "# add \"/proxy/8501/\" to the URL to go to the Streamlit Web App\n",
    "# This will block the page until you click Interrupt the Kernel"
   ]
  }
 ],
 "metadata": {
  "kernelspec": {
   "display_name": "Python 3",
   "language": "python",
   "name": "python3"
  },
  "language_info": {
   "codemirror_mode": {
    "name": "ipython",
    "version": 3
   },
   "file_extension": ".py",
   "mimetype": "text/x-python",
   "name": "python",
   "nbconvert_exporter": "python",
   "pygments_lexer": "ipython3",
   "version": "3.7.10"
  }
 },
 "nbformat": 4,
 "nbformat_minor": 5
}
